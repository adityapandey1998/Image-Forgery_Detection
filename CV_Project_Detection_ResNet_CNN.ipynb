{
 "cells": [
  {
   "cell_type": "code",
   "execution_count": 1,
   "metadata": {
    "colab": {
     "base_uri": "https://localhost:8080/"
    },
    "id": "Qx54Kv1PQZuF",
    "outputId": "888f156c-a175-4076-bcc9-271427c5011d"
   },
   "outputs": [
    {
     "name": "stdout",
     "output_type": "stream",
     "text": [
      "/home/ap6624/CV\n",
      "Au  Tp\tau_list.txt  tp_list.txt\n"
     ]
    }
   ],
   "source": [
    "# from google.colab import drive\n",
    "# drive.mount('/content/drive')\n",
    "# %cd  /content/drive/'My Drive'/'CV Project'/\n",
    "!pwd\n",
    "!ls /scratch/ap6624/CV/casia2groundtruth/CASIA2.0_revised/"
   ]
  },
  {
   "cell_type": "code",
   "execution_count": null,
   "metadata": {},
   "outputs": [],
   "source": [
    "# import torch\n",
    "# torch.cuda.is_available()"
   ]
  },
  {
   "cell_type": "code",
   "execution_count": null,
   "metadata": {},
   "outputs": [],
   "source": [
    "# !pip install sklearn"
   ]
  },
  {
   "cell_type": "code",
   "execution_count": 2,
   "metadata": {
    "id": "LzFfut1EUe1E"
   },
   "outputs": [
    {
     "name": "stderr",
     "output_type": "stream",
     "text": [
      "2021-12-15 18:10:22.783638: I tensorflow/stream_executor/platform/default/dso_loader.cc:49] Successfully opened dynamic library libcudart.so.10.1\n"
     ]
    }
   ],
   "source": [
    "import os\n",
    "import datetime\n",
    "import numpy as np\n",
    "import itertools\n",
    "import matplotlib.pyplot as plt\n",
    "%matplotlib inline\n",
    "\n",
    "from PIL import Image, ImageChops, ImageEnhance\n",
    "from sklearn.model_selection import train_test_split\n",
    "from sklearn.metrics import confusion_matrix\n",
    "from keras.utils.np_utils import to_categorical\n",
    "from tensorflow.keras.models import Sequential\n",
    "from tensorflow.keras.layers import Dense, Flatten, Conv2D, MaxPool2D, Dropout\n",
    "from tensorflow.keras.optimizers import Adam\n",
    "from tensorflow.keras.preprocessing.image import ImageDataGenerator\n",
    "from tensorflow.keras.callbacks import EarlyStopping,ReduceLROnPlateau, ModelCheckpoint\n",
    "from tqdm import tqdm\n"
   ]
  },
  {
   "cell_type": "code",
   "execution_count": 4,
   "metadata": {
    "id": "Xavx7igSUnnz"
   },
   "outputs": [],
   "source": [
    "def get_ela(dir, filename):\n",
    "    path = os.path.join(dir, filename)\n",
    "    temp_img = 'tmp_img_bw.jpg'\n",
    "\n",
    "    image = Image.open(path)\n",
    "    filtered_image = image.convert('RGB').filter(ImageFilter.BoxBlur(0.5))\n",
    "    filtered_image.save(temp_img, 'JPEG', quality = 90)\n",
    "    \n",
    "    temp_image = Image.open(temp_img)\n",
    "    \n",
    "    ela_image = ImageChops.difference(filtered_image, temp_image)\n",
    "    \n",
    "    extremas = ela_image.getextrema()\n",
    "    max_ext = max([x[1] for x in extremas])\n",
    "    if max_ext == 0:\n",
    "        scale = 255.0\n",
    "    else:\n",
    "        scale = 255.0 / max_ext\n",
    "    \n",
    "    ela_image = ImageEnhance.Brightness(ela_image)\n",
    "    ela_image = ela_image.enhance(scale)\n",
    "\n",
    "    result = np.array(ela_image.resize((128,128))).flatten()/255\n",
    "\n",
    "    return result"
   ]
  },
  {
   "cell_type": "code",
   "execution_count": 5,
   "metadata": {
    "colab": {
     "base_uri": "https://localhost:8080/"
    },
    "id": "XyXZQ667UTzQ",
    "outputId": "14f1cf44-3feb-4536-8b9c-007949d623eb"
   },
   "outputs": [
    {
     "name": "stderr",
     "output_type": "stream",
     "text": [
      "100%|██████████| 7492/7492 [01:42<00:00, 73.08it/s]\n"
     ]
    },
    {
     "name": "stdout",
     "output_type": "stream",
     "text": [
      "Authentic Images:\n",
      "Train Size: 7437\n"
     ]
    },
    {
     "name": "stderr",
     "output_type": "stream",
     "text": [
      "100%|██████████| 5123/5123 [00:38<00:00, 133.49it/s]\n"
     ]
    },
    {
     "name": "stdout",
     "output_type": "stream",
     "text": [
      "Tampered Images:\n",
      "Train+Fake Size: 9501\n",
      "Shape of Train Data\n",
      "(9501, 49152)\n"
     ]
    }
   ],
   "source": [
    "authentic_path = '/scratch/ap6624/CV/casia2groundtruth/CASIA2.0_revised/Au'\n",
    "tampered_path = '/scratch/ap6624/CV/casia2groundtruth/CASIA2.0_revised/Tp'\n",
    "\n",
    "X_arr = []\n",
    "y_arr = []\n",
    "\n",
    "for dir, _, files in os.walk(authentic_path):\n",
    "    for filename in tqdm(files):\n",
    "        if filename.endswith('jpg') or filename.endswith('png'):\n",
    "            X_arr.append(get_ela(dir, filename))\n",
    "            y_arr.append(0)\n",
    "\n",
    "num_authentic = len(X_arr)\n",
    "print(\"Authentic Images:\", num_authentic)\n",
    "\n",
    "for dir, _, files in os.walk(tampered_path):\n",
    "    for filename in tqdm(files):\n",
    "        if filename.endswith('jpg') or filename.endswith('png'):\n",
    "            X_arr.append(get_ela(dir, filename))\n",
    "            y_arr.append(1)\n",
    "            \n",
    "print(\"Tampered Images:\", len(X_arr) - num_authentic)\n",
    "\n",
    "X = np.array(X_arr)\n",
    "# X = X_arr\n",
    "y = y_arr\n",
    "\n",
    "print(\"Shape of Train Data\")\n",
    "print(X.shape)"
   ]
  },
  {
   "cell_type": "code",
   "execution_count": 6,
   "metadata": {},
   "outputs": [
    {
     "name": "stdout",
     "output_type": "stream",
     "text": [
      "(9501, 49152)\n",
      "(9501, 128, 128, 3)\n"
     ]
    }
   ],
   "source": [
    "print(X.shape)\n",
    "\n",
    "y = to_categorical(y, 2)\n",
    "X = X.reshape(-1, 128, 128, 3)\n",
    "print(X.shape)"
   ]
  },
  {
   "cell_type": "code",
   "execution_count": 9,
   "metadata": {
    "id": "ytupTNP2W8Qk"
   },
   "outputs": [
    {
     "name": "stdout",
     "output_type": "stream",
     "text": [
      "(7600, 128, 128, 3) (7600, 2)\n",
      "(1901, 128, 128, 3) (1901, 2)\n"
     ]
    }
   ],
   "source": [
    "X_train, X_test, y_train, y_test = train_test_split(X, y, test_size = 0.2)\n",
    "print(X_train.shape,y_train.shape)\n",
    "print(X_test.shape,y_test.shape)"
   ]
  },
  {
   "cell_type": "markdown",
   "metadata": {
    "id": "ZysfJUlpXY2N"
   },
   "source": [
    "##Using a Basic CNN"
   ]
  },
  {
   "cell_type": "code",
   "execution_count": 12,
   "metadata": {
    "colab": {
     "base_uri": "https://localhost:8080/"
    },
    "id": "EDf6GjIPXYVW",
    "outputId": "ab9fe6b2-a466-4ed3-de24-87c19d76f6e2"
   },
   "outputs": [
    {
     "name": "stdout",
     "output_type": "stream",
     "text": [
      "Model: \"sequential_2\"\n",
      "_________________________________________________________________\n",
      "Layer (type)                 Output Shape              Param #   \n",
      "=================================================================\n",
      "resnet50 (Functional)        (None, 2048)              23587712  \n",
      "_________________________________________________________________\n",
      "dense_5 (Dense)              (None, 256)               524544    \n",
      "_________________________________________________________________\n",
      "dropout_3 (Dropout)          (None, 256)               0         \n",
      "_________________________________________________________________\n",
      "dense_6 (Dense)              (None, 128)               32896     \n",
      "_________________________________________________________________\n",
      "dense_7 (Dense)              (None, 64)                8256      \n",
      "_________________________________________________________________\n",
      "dropout_4 (Dropout)          (None, 64)                0         \n",
      "_________________________________________________________________\n",
      "dense_8 (Dense)              (None, 32)                2080      \n",
      "_________________________________________________________________\n",
      "dropout_5 (Dropout)          (None, 32)                0         \n",
      "_________________________________________________________________\n",
      "dense_9 (Dense)              (None, 2)                 66        \n",
      "=================================================================\n",
      "Total params: 24,155,554\n",
      "Trainable params: 567,842\n",
      "Non-trainable params: 23,587,712\n",
      "_________________________________________________________________\n"
     ]
    }
   ],
   "source": [
    "from keras.applications.resnet import ResNet50\n",
    "\n",
    "resNetCNN = Sequential()\n",
    "resnet50 = ResNet50(include_top = False, pooling = 'avg', weights = 'imagenet')\n",
    "resNetCNN.add(resnet50)\n",
    "resNetCNN.add(Dense(256, activation = 'relu'))\n",
    "resNetCNN.add(Dropout(0.1))\n",
    "resNetCNN.add(Dense(128, activation='relu'))\n",
    "resNetCNN.add(Dense(64, activation='relu'))\n",
    "resNetCNN.add(Dropout(0.2))\n",
    "resNetCNN.add(Dense(32, activation='relu'))\n",
    "resNetCNN.add(Dropout(0.3))\n",
    "resNetCNN.add(Dense(2, activation = 'softmax'))\n",
    "\n",
    "for layer in resnet50.layers:\n",
    "    layer.trainable = False\n",
    "\n",
    "\n",
    "resNetCNN.summary()"
   ]
  },
  {
   "cell_type": "code",
   "execution_count": 14,
   "metadata": {
    "id": "7MAfP28BX8tr"
   },
   "outputs": [
    {
     "name": "stderr",
     "output_type": "stream",
     "text": [
      "2021-12-15 18:15:43.231591: I tensorflow/core/profiler/lib/profiler_session.cc:136] Profiler session initializing.\n",
      "2021-12-15 18:15:43.231625: I tensorflow/core/profiler/lib/profiler_session.cc:155] Profiler session started.\n",
      "2021-12-15 18:15:43.231764: I tensorflow/core/profiler/lib/profiler_session.cc:172] Profiler session tear down.\n",
      "2021-12-15 18:15:43.231815: I tensorflow/core/profiler/internal/gpu/cupti_tracer.cc:1487] CUPTI activity buffer flushed\n"
     ]
    }
   ],
   "source": [
    "checkpoint_filepath = 'ResNetCNN_Detection/checkpoint'\n",
    "model_checkpoint_callback = ModelCheckpoint(\n",
    "    filepath=checkpoint_filepath,\n",
    "    save_weights_only=True,\n",
    "    monitor='val_accuracy',\n",
    "    mode='max',\n",
    "    save_best_only=True)\n",
    "\n",
    "epochs = 10\n",
    "batch_size = 32\n",
    "opt = Adam(learning_rate = 0.001, decay = 0.001/epochs)\n",
    "\n",
    "early_stopping = EarlyStopping(monitor = 'val_accuracy',min_delta = 0,patience = 2,mode = 'auto')\n",
    "\n",
    "resNetCNN.compile(optimizer = opt, loss = 'binary_crossentropy', metrics = ['accuracy'])"
   ]
  },
  {
   "cell_type": "code",
   "execution_count": 15,
   "metadata": {
    "id": "PuKFw-5HZunf"
   },
   "outputs": [
    {
     "name": "stderr",
     "output_type": "stream",
     "text": [
      "2021-12-15 18:15:48.770645: I tensorflow/compiler/mlir/mlir_graph_optimization_pass.cc:116] None of the MLIR optimization passes are enabled (registered 2)\n",
      "2021-12-15 18:15:48.782490: I tensorflow/core/platform/profile_utils/cpu_utils.cc:112] CPU Frequency: 2900000000 Hz\n"
     ]
    },
    {
     "name": "stdout",
     "output_type": "stream",
     "text": [
      "Epoch 1/10\n",
      "  1/238 [..............................] - ETA: 14:43 - loss: 0.7133 - accuracy: 0.6562"
     ]
    },
    {
     "name": "stdout",
     "output_type": "stream",
     "text": [
      "  2/238 [..............................] - ETA: 4:47 - loss: 0.6903 - accuracy: 0.6797 "
     ]
    },
    {
     "name": "stdout",
     "output_type": "stream",
     "text": [
      "238/238 [==============================] - 128s 1s/step - loss: 0.5583 - accuracy: 0.8774 - val_loss: 2.5174 - val_accuracy: 0.7875\n",
      "Epoch 2/10\n",
      "238/238 [==============================] - 179s 2s/step - loss: 0.4352 - accuracy: 0.8839 - val_loss: 2.5161 - val_accuracy: 0.7992\n",
      "Epoch 3/10\n",
      "238/238 [==============================] - 179s 2s/step - loss: 0.3354 - accuracy: 0.8815 - val_loss: 1.9106 - val_accuracy: 0.8018\n",
      "Epoch 4/10\n",
      "238/238 [==============================] - 178s 2s/step - loss: 0.2802 - accuracy: 0.8840 - val_loss: 1.7302 - val_accuracy: 0.7964\n",
      "Epoch 5/10\n",
      "238/238 [==============================] - 178s 2s/step - loss: 0.2416 - accuracy: 0.9042 - val_loss: 1.5106 - val_accuracy: 0.8072\n",
      "Epoch 6/10\n",
      "238/238 [==============================] - 179s 2s/step - loss: 0.1722 - accuracy: 0.9112 - val_loss: 1.1106 - val_accuracy: 0.8124\n",
      "Epoch 7/10\n",
      "238/238 [==============================] - 178s 2s/step - loss: 0.1023 - accuracy: 0.9224 - val_loss: 0.8289 - val_accuracy: 0.8272\n",
      "Epoch 8/10\n",
      "238/238 [==============================] - 179s 2s/step - loss: 0.0917 - accuracy: 0.9205 - val_loss: 0.5562 - val_accuracy: 0.8242\n",
      "Epoch 9/10\n",
      "238/238 [==============================] - 178s 2s/step - loss: 0.0832 - accuracy: 0.9192 - val_loss: 0.3376 - val_accuracy: 0.8464\n",
      "Epoch 10/10\n",
      "238/238 [==============================] - 180s 2s/step - loss: 0.0501 - accuracy: 0.9216 - val_loss: 0.3041 - val_accuracy: 0.8302\n"
     ]
    },
    {
     "data": {
      "text/plain": [
       "<tensorflow.python.keras.callbacks.History at 0x14e6284330d0>"
      ]
     },
     "execution_count": 15,
     "metadata": {},
     "output_type": "execute_result"
    }
   ],
   "source": [
    "epochs = 10\n",
    "batch_size = 32\n",
    "\n",
    "resNetCNN.fit(X_train,y_train,batch_size = batch_size,epochs = epochs,validation_data = (X_test, y_test),callbacks = [early_stopping, model_checkpoint_callback])"
   ]
  },
  {
   "cell_type": "code",
   "execution_count": null,
   "metadata": {},
   "outputs": [],
   "source": [
    "def plot_confusion_matrix(cm, classes, normalize=False, title='Confusion matrix', cmap=plt.cm.Blues):\n",
    "    plt.imshow(cm, interpolation='nearest', cmap=cmap)\n",
    "    plt.title('Confusion Matrix')\n",
    "    plt.colorbar()\n",
    "    tick_marks = np.arange(len(classes))\n",
    "    plt.xticks(tick_marks, classes, rotation=45)\n",
    "    plt.yticks(tick_marks, classes)\n",
    "\n",
    "\n",
    "    thresh = cm.max() / 2.\n",
    "    for i, j in itertools.product(range(cm.shape[0]), range(cm.shape[1])):\n",
    "        plt.text(j, i, cm[i, j],\n",
    "                 horizontalalignment=\"center\",\n",
    "                 color=\"white\" if cm[i, j] > thresh else \"black\")\n",
    "\n",
    "    plt.tight_layout()\n",
    "    plt.ylabel('True label')\n",
    "    plt.xlabel('Predicted label')"
   ]
  },
  {
   "cell_type": "code",
   "execution_count": 16,
   "metadata": {
    "id": "35mRnoEgrYBU"
   },
   "outputs": [
    {
     "name": "stdout",
     "output_type": "stream",
     "text": [
      "              precision    recall  f1-score   support\n",
      "\n",
      "           0       0.97      0.87      0.92      1481\n",
      "           1       0.66      0.91      0.76       420\n",
      "\n",
      "    accuracy                           0.88      1901\n",
      "   macro avg       0.81      0.89      0.84      1901\n",
      "weighted avg       0.90      0.88      0.88      1901\n",
      "\n"
     ]
    },
    {
     "data": {
      "image/png": "[encoded data removed]",
      "text/plain": [
       "<Figure size 432x288 with 2 Axes>"
      ]
     },
     "metadata": {
      "needs_background": "light"
     },
     "output_type": "display_data"
    }
   ],
   "source": [
    "Y_pred = basicCNNModel.predict(X_test)\n",
    "Y_pred_classes = np.argmax(Y_pred,axis = 1) \n",
    "Y_true = np.argmax(y_test,axis = 1) \n",
    "\n",
    "cfm = confusion_matrix(Y_true, Y_pred_classes) \n",
    "plot_confusion_matrix(cfm, classes = [0,1])\n",
    "\n",
    "from sklearn.metrics import classification_report\n",
    "\n",
    "print(classification_report(Y_true, Y_pred_classes))"
   ]
  }
 ],
 "metadata": {
  "accelerator": "GPU",
  "colab": {
   "collapsed_sections": [],
   "name": "CV Project - Detection CNN.ipynb",
   "provenance": []
  },
  "kernelspec": {
   "display_name": "my_env",
   "language": "python",
   "name": "my_env"
  },
  "language_info": {
   "codemirror_mode": {
    "name": "ipython",
    "version": 3
   },
   "file_extension": ".py",
   "mimetype": "text/x-python",
   "name": "python",
   "nbconvert_exporter": "python",
   "pygments_lexer": "ipython3",
   "version": "3.9.5"
  }
 },
 "nbformat": 4,
 "nbformat_minor": 1
}
