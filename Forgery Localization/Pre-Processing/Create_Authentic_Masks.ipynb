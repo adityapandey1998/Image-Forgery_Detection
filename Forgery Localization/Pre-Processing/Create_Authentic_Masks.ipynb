{
  "cells": [
    {
      "cell_type": "code",
      "source": [
        "# Load the Drive helper and mount\n",
        "from google.colab import drive\n",
        "drive.mount('/content/drive')\n",
        "%cd  /content/drive/'My Drive'/'CV Project'/\n",
        "!ls"
      ],
      "metadata": {
        "id": "qpB07OrA4NcA"
      },
      "execution_count": null,
      "outputs": []
    },
    {
      "cell_type": "code",
      "execution_count": null,
      "metadata": {
        "id": "pSpmcn6a4GNQ"
      },
      "outputs": [],
      "source": [
        "import os\n",
        "import numpy as np\n",
        "import cv2\n",
        "from tqdm import tqdm\n",
        "\n",
        "import matplotlib.pyplot as plt\n",
        "%matplotlib inline"
      ]
    },
    {
      "cell_type": "code",
      "source": [
        "image = cv2.imread('CASIA2.0_revised/Tp/Tp_D_CND_S_N_txt00028_txt00006_10848.jpg')\n",
        "plt.imshow(image-image)"
      ],
      "metadata": {
        "colab": {
          "base_uri": "https://localhost:8080/",
          "height": 286
        },
        "id": "sfSKYPmj47m8",
        "outputId": "8aa9725e-0800-494b-fa2e-c9f8c4d0016d"
      },
      "execution_count": null,
      "outputs": [
        {
          "output_type": "execute_result",
          "data": {
            "text/plain": [
              "<matplotlib.image.AxesImage at 0x7fa13b128a10>"
            ]
          },
          "metadata": {},
          "execution_count": 9
        },
        {
          "output_type": "display_data",
          "data": {
            "image/png": "[encoded data removed]",
            "text/plain": [
              "<Figure size 432x288 with 1 Axes>"
            ]
          },
          "metadata": {
            "needs_background": "light"
          }
        }
      ]
    },
    {
      "cell_type": "code",
      "execution_count": null,
      "metadata": {
        "colab": {
          "base_uri": "https://localhost:8080/"
        },
        "id": "Z3T4YpHR4GNR",
        "outputId": "10c57e81-54b7-41e4-b880-c597558f617a"
      },
      "outputs": [
        {
          "output_type": "stream",
          "name": "stderr",
          "text": [
            " 13%|█▎        | 1003/7492 [00:18<01:27, 74.08it/s]"
          ]
        },
        {
          "output_type": "stream",
          "name": "stdout",
          "text": [
            "CASIA2.0_revised/Au/Thumbs.db\n"
          ]
        },
        {
          "output_type": "stream",
          "name": "stderr",
          "text": [
            "100%|██████████| 7492/7492 [01:48<00:00, 69.15it/s]\n"
          ]
        }
      ],
      "source": [
        "path = \"CASIA2.0_revised/Au\"\n",
        "filename = \"CASIA2.0_revised/Au_mask\"\n",
        "\n",
        "au_list = os.listdir(path)\n",
        "for name in tqdm(au_list):\n",
        "  img_path = path + \"/\" + name\n",
        "\n",
        "  img = cv2.imread(img_path) \n",
        "  name, ext = os.path.splitext(name)\n",
        "  if name == \"Thumbs\":\n",
        "    continue\n",
        "  image = np.zeros((img.shape[0],img.shape[1]))\n",
        "  cv2.imwrite(filename + \"/\" + name + \"_gt\" + ext, image)"
      ]
    },
    {
      "cell_type": "code",
      "execution_count": null,
      "metadata": {
        "colab": {
          "base_uri": "https://localhost:8080/",
          "height": 286
        },
        "id": "7G6brHAt4GNS",
        "outputId": "dbd49ad1-3cb2-437e-9533-efe0e2aec065"
      },
      "outputs": [
        {
          "output_type": "execute_result",
          "data": {
            "text/plain": [
              "<matplotlib.image.AxesImage at 0x7fa13bd0f450>"
            ]
          },
          "metadata": {},
          "execution_count": 11
        },
        {
          "output_type": "display_data",
          "data": {
            "image/png": "[encoded data removed]",
            "text/plain": [
              "<Figure size 432x288 with 1 Axes>"
            ]
          },
          "metadata": {
            "needs_background": "light"
          }
        }
      ],
      "source": [
        "image = cv2.imread('CASIA2.0_revised/Au_mask/Au_ani_00001_gt.jpg')\n",
        "plt.imshow(image)"
      ]
    }
  ],
  "metadata": {
    "kernelspec": {
      "display_name": "Python 3",
      "language": "python",
      "name": "python3"
    },
    "language_info": {
      "codemirror_mode": {
        "name": "ipython",
        "version": 3
      },
      "file_extension": ".py",
      "mimetype": "text/x-python",
      "name": "python",
      "nbconvert_exporter": "python",
      "pygments_lexer": "ipython3",
      "version": "3.8.6"
    },
    "colab": {
      "name": "Create Authentic Masks.ipynb",
      "provenance": [],
      "collapsed_sections": []
    }
  },
  "nbformat": 4,
  "nbformat_minor": 0
}