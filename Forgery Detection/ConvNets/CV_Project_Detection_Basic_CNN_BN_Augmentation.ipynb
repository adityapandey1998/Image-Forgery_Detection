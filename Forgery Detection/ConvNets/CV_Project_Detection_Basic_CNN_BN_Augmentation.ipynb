{
  "cells": [
    {
      "cell_type": "code",
      "execution_count": 1,
      "metadata": {
        "colab": {
          "base_uri": "https://localhost:8080/"
        },
        "id": "Qx54Kv1PQZuF",
        "outputId": "ebab4543-05e0-4046-a2c0-5ea8ba1116c9"
      },
      "outputs": [
        {
          "name": "stdout",
          "output_type": "stream",
          "text": [
            "Drive already mounted at /content/drive; to attempt to forcibly remount, call drive.mount(\"/content/drive\", force_remount=True).\n",
            "/content/drive/My Drive/CV Project\n"
          ]
        }
      ],
      "source": [
        "from google.colab import drive\n",
        "drive.mount('/content/drive')\n",
        "%cd  /content/drive/'My Drive'/'CV Project'/"
      ]
    },
    {
      "cell_type": "code",
      "execution_count": 2,
      "metadata": {
        "id": "LzFfut1EUe1E"
      },
      "outputs": [],
      "source": [
        "import os\n",
        "import datetime\n",
        "import numpy as np\n",
        "import itertools\n",
        "import matplotlib.pyplot as plt\n",
        "%matplotlib inline\n",
        "\n",
        "from PIL import Image, ImageChops, ImageEnhance\n",
        "\n",
        "from sklearn.model_selection import train_test_split\n",
        "from sklearn.metrics import confusion_matrix\n",
        "from keras.utils.np_utils import to_categorical\n",
        "from tensorflow.keras.models import Sequential\n",
        "from tensorflow.keras.layers import Dense, Flatten, Conv2D, MaxPool2D, Dropout, BatchNormalization\n",
        "from tensorflow.keras.optimizers import Adam, RMSprop\n",
        "from tensorflow.keras.preprocessing.image import ImageDataGenerator\n",
        "from tensorflow.keras.callbacks import EarlyStopping,ReduceLROnPlateau, ModelCheckpoint\n",
        "\n"
      ]
    },
    {
      "cell_type": "code",
      "execution_count": 4,
      "metadata": {
        "id": "Xavx7igSUnnz"
      },
      "outputs": [],
      "source": [
        "def get_ela(dir, filename):\n",
        "    path = os.path.join(dir, filename)\n",
        "    temp_img = 'tmp_img_bw.jpg'\n",
        "\n",
        "    image = Image.open(path)\n",
        "    filtered_image = image.convert('RGB').filter(ImageFilter.BoxBlur(0.5))\n",
        "    filtered_image.save(temp_img, 'JPEG', quality = 90)\n",
        "    \n",
        "    temp_image = Image.open(temp_img)\n",
        "    \n",
        "    ela_image = ImageChops.difference(filtered_image, temp_image)\n",
        "    \n",
        "    extremas = ela_image.getextrema()\n",
        "    max_ext = max([x[1] for x in extremas])\n",
        "    if max_ext == 0:\n",
        "        scale = 255.0\n",
        "    else:\n",
        "        scale = 255.0 / max_ext\n",
        "    \n",
        "    ela_image = ImageEnhance.Brightness(ela_image)\n",
        "    ela_image = ela_image.enhance(scale)\n",
        "\n",
        "    result = np.array(ela_image.resize((128,128))).flatten()/255\n",
        "\n",
        "    return result"
      ]
    },
    {
      "cell_type": "code",
      "execution_count": 5,
      "metadata": {
        "colab": {
          "base_uri": "https://localhost:8080/"
        },
        "id": "XyXZQ667UTzQ",
        "outputId": "7d880b58-dbd9-4bac-a22f-1c539535a2f7"
      },
      "outputs": [
        {
          "name": "stderr",
          "output_type": "stream",
          "text": [
            " 92%|█████████▏| 6904/7492 [02:29<00:10, 55.93it/s]/usr/local/lib/python3.7/dist-packages/PIL/TiffImagePlugin.py:770: UserWarning: Possibly corrupt EXIF data.  Expecting to read 8 bytes but only got 2. Skipping tag 41487\n",
            "  \" Skipping tag %s\" % (size, len(data), tag)\n",
            "/usr/local/lib/python3.7/dist-packages/PIL/TiffImagePlugin.py:770: UserWarning: Possibly corrupt EXIF data.  Expecting to read 8 bytes but only got 0. Skipping tag 41988\n",
            "  \" Skipping tag %s\" % (size, len(data), tag)\n",
            "100%|██████████| 7492/7492 [02:42<00:00, 46.12it/s]\n"
          ]
        },
        {
          "name": "stdout",
          "output_type": "stream",
          "text": [
            "Authentic Images: 7437\n"
          ]
        },
        {
          "name": "stderr",
          "output_type": "stream",
          "text": [
            "100%|██████████| 5123/5123 [01:10<00:00, 72.61it/s] \n"
          ]
        },
        {
          "name": "stdout",
          "output_type": "stream",
          "text": [
            "Tampered Images: 2064\n",
            "Shape of Train Data\n",
            "(9501, 49152)\n"
          ]
        }
      ],
      "source": [
        "authentic_path = '/scratch/ap6624/CV/casia2groundtruth/CASIA2.0_revised/Au'\n",
        "tampered_path = '/scratch/ap6624/CV/casia2groundtruth/CASIA2.0_revised/Tp'\n",
        "\n",
        "X_arr = []\n",
        "y_arr = []\n",
        "\n",
        "for dir, _, files in os.walk(authentic_path):\n",
        "    for filename in tqdm(files):\n",
        "        if filename.endswith('jpg') or filename.endswith('png'):\n",
        "            X_arr.append(get_ela(dir, filename))\n",
        "            y_arr.append(0)\n",
        "\n",
        "num_authentic = len(X_arr)\n",
        "print(\"Authentic Images:\", num_authentic)\n",
        "\n",
        "for dir, _, files in os.walk(tampered_path):\n",
        "    for filename in tqdm(files):\n",
        "        if filename.endswith('jpg') or filename.endswith('png'):\n",
        "            X_arr.append(get_ela(dir, filename))\n",
        "            y_arr.append(1)\n",
        "            \n",
        "print(\"Tampered Images:\", len(X_arr) - num_authentic)\n",
        "\n",
        "X = np.array(X_arr)\n",
        "# X = X_arr\n",
        "y = y_arr\n",
        "\n",
        "print(\"Shape of Train Data\")\n",
        "print(X.shape)"
      ]
    },
    {
      "cell_type": "code",
      "execution_count": 6,
      "metadata": {
        "colab": {
          "base_uri": "https://localhost:8080/"
        },
        "id": "L_1IyO3fVp_-",
        "outputId": "cf12a19c-0c3f-469f-93c2-181b955683c3"
      },
      "outputs": [
        {
          "name": "stdout",
          "output_type": "stream",
          "text": [
            "(9501, 49152)\n",
            "(9501, 128, 128, 3)\n"
          ]
        }
      ],
      "source": [
        "X = np.array(X_arr)\n",
        "y = y_arr\n",
        "\n",
        "print(X.shape)\n",
        "\n",
        "y = to_categorical(y, 2)\n",
        "X = X.reshape(-1, 128, 128, 3)\n",
        "print(X.shape)"
      ]
    },
    {
      "cell_type": "code",
      "execution_count": 8,
      "metadata": {
        "id": "OZVUNHFIbt9S"
      },
      "outputs": [],
      "source": [
        "def plot_confusion_matrix(cm, classes, normalize=False, title='Confusion matrix', cmap=plt.cm.Blues):\n",
        "    plt.imshow(cm, interpolation='nearest', cmap=cmap)\n",
        "    plt.title('Confusion Matrix')\n",
        "    plt.colorbar()\n",
        "    tick_marks = np.arange(len(classes))\n",
        "    plt.xticks(tick_marks, classes, rotation=45)\n",
        "    plt.yticks(tick_marks, classes)\n",
        "\n",
        "\n",
        "    thresh = cm.max() / 2.\n",
        "    for i, j in itertools.product(range(cm.shape[0]), range(cm.shape[1])):\n",
        "        plt.text(j, i, cm[i, j],\n",
        "                 horizontalalignment=\"center\",\n",
        "                 color=\"white\" if cm[i, j] > thresh else \"black\")\n",
        "\n",
        "    plt.tight_layout()\n",
        "    plt.ylabel('True label')\n",
        "    plt.xlabel('Predicted label')"
      ]
    },
    {
      "cell_type": "code",
      "execution_count": 9,
      "metadata": {
        "colab": {
          "base_uri": "https://localhost:8080/"
        },
        "id": "ytupTNP2W8Qk",
        "outputId": "75bc5bd0-7fbf-4417-b841-bd8a0114858f"
      },
      "outputs": [
        {
          "name": "stdout",
          "output_type": "stream",
          "text": [
            "(7600, 128, 128, 3) (7600, 2)\n",
            "(1901, 128, 128, 3) (1901, 2)\n"
          ]
        }
      ],
      "source": [
        "X_train, X_test, y_train, y_test = train_test_split(X, y, test_size = 0.2)\n",
        "print(X_train.shape,y_train.shape)\n",
        "print(X_test.shape,y_test.shape)"
      ]
    },
    {
      "cell_type": "code",
      "execution_count": null,
      "metadata": {},
      "outputs": [],
      "source": [
        "# X_save_path = 'ELA_extracted_X.npy'\n",
        "# y_save_path = 'ELA_extracted_y.npy'\n",
        "# with open(X_save_path, 'wb') as f1:\n",
        "#     np.save(f1, X)\n",
        "# with open(y_save_path, 'wb') as f2:\n",
        "#     np.save(f2, y)"
      ]
    },
    {
      "cell_type": "markdown",
      "metadata": {
        "id": "ZysfJUlpXY2N"
      },
      "source": [
        "##Using a Basic CNN"
      ]
    },
    {
      "cell_type": "code",
      "execution_count": 10,
      "metadata": {
        "colab": {
          "base_uri": "https://localhost:8080/"
        },
        "id": "EDf6GjIPXYVW",
        "outputId": "1e080927-838d-4c7b-fbd4-8bfc3ebc26e4"
      },
      "outputs": [
        {
          "name": "stdout",
          "output_type": "stream",
          "text": [
            "Model: \"sequential\"\n",
            "_________________________________________________________________\n",
            " Layer (type)                Output Shape              Param #   \n",
            "=================================================================\n",
            " conv2d (Conv2D)             (None, 64, 64, 32)        896       \n",
            "                                                                 \n",
            " dropout (Dropout)           (None, 64, 64, 32)        0         \n",
            "                                                                 \n",
            " conv2d_1 (Conv2D)           (None, 32, 32, 64)        18496     \n",
            "                                                                 \n",
            " batch_normalization (BatchN  (None, 32, 32, 64)       256       \n",
            " ormalization)                                                   \n",
            "                                                                 \n",
            " dropout_1 (Dropout)         (None, 32, 32, 64)        0         \n",
            "                                                                 \n",
            " conv2d_2 (Conv2D)           (None, 16, 16, 128)       73856     \n",
            "                                                                 \n",
            " batch_normalization_1 (Batc  (None, 16, 16, 128)      512       \n",
            " hNormalization)                                                 \n",
            "                                                                 \n",
            " dropout_2 (Dropout)         (None, 16, 16, 128)       0         \n",
            "                                                                 \n",
            " conv2d_3 (Conv2D)           (None, 16, 16, 256)       295168    \n",
            "                                                                 \n",
            " batch_normalization_2 (Batc  (None, 16, 16, 256)      1024      \n",
            " hNormalization)                                                 \n",
            "                                                                 \n",
            " dropout_3 (Dropout)         (None, 16, 16, 256)       0         \n",
            "                                                                 \n",
            " flatten (Flatten)           (None, 65536)             0         \n",
            "                                                                 \n",
            " dense (Dense)               (None, 256)               16777472  \n",
            "                                                                 \n",
            " dropout_4 (Dropout)         (None, 256)               0         \n",
            "                                                                 \n",
            " dense_1 (Dense)             (None, 2)                 514       \n",
            "                                                                 \n",
            "=================================================================\n",
            "Total params: 17,168,194\n",
            "Trainable params: 17,167,298\n",
            "Non-trainable params: 896\n",
            "_________________________________________________________________\n"
          ]
        }
      ],
      "source": [
        "\n",
        "basicCNNModel = Sequential()\n",
        "basicCNNModel.add(Conv2D(32, kernel_size=3, strides=2, input_shape=(128,128,3), padding=\"same\", activation='relu'))\n",
        "basicCNNModel.add(Dropout(0.25))\n",
        "basicCNNModel.add(Conv2D(64, kernel_size=3, strides=2, padding=\"same\", activation='relu'))\n",
        "basicCNNModel.add(BatchNormalization(momentum=0.8))\n",
        "basicCNNModel.add(Dropout(0.25))\n",
        "basicCNNModel.add(Conv2D(128, kernel_size=3, strides=2, padding=\"same\", activation='relu'))\n",
        "basicCNNModel.add(BatchNormalization(momentum=0.8))\n",
        "basicCNNModel.add(Dropout(0.25))\n",
        "basicCNNModel.add(Conv2D(256, kernel_size=3, strides=1, padding=\"same\", activation='relu'))\n",
        "basicCNNModel.add(BatchNormalization(momentum=0.8))\n",
        "basicCNNModel.add(Dropout(0.25))\n",
        "basicCNNModel.add(Flatten())\n",
        "basicCNNModel.add(Dense(256, activation = \"relu\"))\n",
        "basicCNNModel.add(Dropout(0.5))\n",
        "basicCNNModel.add(Dense(2, activation = \"softmax\"))\n",
        "\n",
        "\n",
        "basicCNNModel.summary()"
      ]
    },
    {
      "cell_type": "code",
      "execution_count": 11,
      "metadata": {
        "colab": {
          "base_uri": "https://localhost:8080/"
        },
        "id": "7MAfP28BX8tr",
        "outputId": "d3e9662a-bf3f-49fc-c0c4-b9dcd57712c6"
      },
      "outputs": [
        {
          "name": "stderr",
          "output_type": "stream",
          "text": [
            "/usr/local/lib/python3.7/dist-packages/keras/optimizer_v2/rmsprop.py:130: UserWarning: The `lr` argument is deprecated, use `learning_rate` instead.\n",
            "  super(RMSprop, self).__init__(name, **kwargs)\n"
          ]
        }
      ],
      "source": [
        "checkpoint_filepath = 'BasicCNNwithBatchNorm_Detection/checkpoint'\n",
        "model_checkpoint_callback = ModelCheckpoint(\n",
        "    filepath=checkpoint_filepath,\n",
        "    save_weights_only=True,\n",
        "    monitor='val_accuracy',\n",
        "    mode='max',\n",
        "    save_best_only=True)\n",
        "\n",
        "epochs = 10\n",
        "batch_size = 32\n",
        "opt = RMSprop(lr=0.0005, rho=0.9, epsilon=1e-08, decay=0.0)\n",
        "\n",
        "early_stopping = EarlyStopping(monitor = 'val_accuracy',patience = 2,mode = 'auto', min_delta = 0)\n",
        "\n",
        "basicCNNModel.compile(optimizer = opt, loss = 'binary_crossentropy', metrics = ['accuracy'])"
      ]
    },
    {
      "cell_type": "code",
      "execution_count": 12,
      "metadata": {
        "colab": {
          "base_uri": "https://localhost:8080/"
        },
        "id": "PuKFw-5HZunf",
        "outputId": "17e46d0d-37a4-4565-ddac-1d8d60c3c33c"
      },
      "outputs": [
        {
          "name": "stderr",
          "output_type": "stream",
          "text": [
            "/usr/local/lib/python3.7/dist-packages/ipykernel_launcher.py:7: UserWarning: `Model.fit_generator` is deprecated and will be removed in a future version. Please use `Model.fit`, which supports generators.\n",
            "  import sys\n"
          ]
        },
        {
          "name": "stdout",
          "output_type": "stream",
          "text": [
            "Epoch 1/10\n",
            "237/237 [==============================] - 34s 105ms/step - loss: 0.5785 - accuracy: 0.8011 - val_loss: 0.5780 - val_accuracy: 0.5197\n",
            "Epoch 2/10\n",
            "237/237 [==============================] - 25s 106ms/step - loss: 0.3986 - accuracy: 0.8267 - val_loss: 0.4593 - val_accuracy: 0.7864\n",
            "Epoch 3/10\n",
            "237/237 [==============================] - 24s 103ms/step - loss: 0.3607 - accuracy: 0.8272 - val_loss: 0.6392 - val_accuracy: 0.6549\n",
            "Epoch 4/10\n",
            "237/237 [==============================] - 24s 101ms/step - loss: 0.3360 - accuracy: 0.8324 - val_loss: 0.5776 - val_accuracy: 0.6191\n"
          ]
        },
        {
          "data": {
            "text/plain": [
              "<keras.callbacks.History at 0x7fec3b70ac10>"
            ]
          },
          "execution_count": 12,
          "metadata": {},
          "output_type": "execute_result"
        }
      ],
      "source": [
        "epochs = 10\n",
        "batch_size = 32\n",
        "aug = ImageDataGenerator(rotation_range=15, width_shift_range=0.1, height_shift_range=0.1, shear_range=0.2, fill_mode=\"nearest\")\n",
        "\n",
        "# basicCNNModel.fit(X_train,y_train,batch_size = batch_size,epochs = epochs,validation_data = (X_test, y_test),callbacks = [early_stopping, model_checkpoint_callback])\n",
        "\n",
        "basicCNNModel.fit_generator(aug.flow(X_train, y_train, batch_size =  batch_size), steps_per_epoch=(len(X_train) /batch_size),epochs = epochs,validation_data = (X_test, y_test),callbacks = [early_stopping, model_checkpoint_callback])\n"
      ]
    },
    {
      "cell_type": "code",
      "execution_count": 13,
      "metadata": {
        "colab": {
          "base_uri": "https://localhost:8080/",
          "height": 467
        },
        "id": "35mRnoEgrYBU",
        "outputId": "6b6200d0-9f1f-429c-9500-7f54841fc57e"
      },
      "outputs": [
        {
          "name": "stdout",
          "output_type": "stream",
          "text": [
            "              precision    recall  f1-score   support\n",
            "\n",
            "           0       0.89      0.59      0.71      1496\n",
            "           1       0.32      0.73      0.45       405\n",
            "\n",
            "    accuracy                           0.62      1901\n",
            "   macro avg       0.61      0.66      0.58      1901\n",
            "weighted avg       0.77      0.62      0.65      1901\n",
            "\n"
          ]
        },
        {
          "data": {
            "image/png": "[encoded data removed]",
            "text/plain": [
              "<Figure size 432x288 with 2 Axes>"
            ]
          },
          "metadata": {
            "needs_background": "light"
          },
          "output_type": "display_data"
        }
      ],
      "source": [
        "\n",
        "y_pred = basicCNNModel.predict(X_test)\n",
        "y_pred_classes = np.argmax(y_pred,axis = 1) \n",
        "y_true = np.argmax(y_test,axis = 1) \n",
        "\n",
        "cfm = confusion_matrix(y_true, y_pred_classes) \n",
        "plot_confusion_matrix(cfm, classes = range(2))\n",
        "\n",
        "from sklearn.metrics import classification_report\n",
        "\n",
        "print(classification_report(y_true, y_pred_classes))"
      ]
    }
  ],
  "metadata": {
    "accelerator": "GPU",
    "colab": {
      "collapsed_sections": [],
      "machine_shape": "hm",
      "name": "CV_Project_Detection_Basic_CNN_BN.ipynb",
      "provenance": []
    },
    "kernelspec": {
      "display_name": "Python 3",
      "name": "python3"
    },
    "language_info": {
      "name": "python"
    }
  },
  "nbformat": 4,
  "nbformat_minor": 0
}
