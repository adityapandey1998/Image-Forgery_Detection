{
 "cells": [
  {
   "cell_type": "code",
   "execution_count": 1,
   "metadata": {},
   "outputs": [],
   "source": [
    "import cv2\n",
    "import numpy as np\n",
    "import pandas as pd\n",
    "from scipy.fftpack import dct\n",
    "from skimage.feature import local_binary_pattern\n",
    "import os\n",
    "from sklearn.model_selection import train_test_split, KFold, cross_val_score\n",
    "from sklearn.metrics import classification_report, confusion_matrix, accuracy_score\n",
    "from sklearn.svm import SVC\n",
    "import random\n",
    "from sklearn.preprocessing import MinMaxScaler\n",
    "import tqdm"
   ]
  },
  {
   "cell_type": "code",
   "execution_count": 2,
   "metadata": {},
   "outputs": [
    {
     "data": {
      "text/plain": [
       "True"
      ]
     },
     "execution_count": 2,
     "metadata": {},
     "output_type": "execute_result"
    }
   ],
   "source": [
    "import torch\n",
    "torch.cuda.is_available()"
   ]
  },
  {
   "cell_type": "code",
   "execution_count": 3,
   "metadata": {},
   "outputs": [
    {
     "name": "stdout",
     "output_type": "stream",
     "text": [
      "/home/ap6624/CV\r\n"
     ]
    }
   ],
   "source": [
    "!pwd"
   ]
  },
  {
   "cell_type": "code",
   "execution_count": 4,
   "metadata": {},
   "outputs": [],
   "source": [
    "split_size = 16\n",
    "\n",
    "P = 8\n",
    "R = 1.0"
   ]
  },
  {
   "cell_type": "code",
   "execution_count": 6,
   "metadata": {},
   "outputs": [],
   "source": []
  },
  {
   "cell_type": "code",
   "execution_count": 5,
   "metadata": {},
   "outputs": [],
   "source": [
    "\n",
    "def extract_features(path_to_folder, class_label):\n",
    "    label = []\n",
    "    feature_vectors = []\n",
    "    for file_name in tqdm.tqdm(os.listdir(path_to_folder)):\n",
    "        path_to_img = os.path.join(path_to_folder,file_name)\n",
    "        img = cv2.imread(path_to_img)\n",
    "        if np.shape(img) == ():\n",
    "            continue\n",
    "        img = cv2.cvtColor(img, cv2.COLOR_BGR2YCrCb) \n",
    "        img = img[:,:,1] \n",
    "        img_h, img_w = img.shape\n",
    "        \n",
    "        i = 1\n",
    "        X_points = [0]\n",
    "        while True:\n",
    "            pt = split_size * i\n",
    "            if pt + split_size >= img_w:\n",
    "                pt = img_w - split_size\n",
    "                X_points.append(pt)\n",
    "                break\n",
    "            X_points.append(pt)\n",
    "            i += 1\n",
    "        i = 1\n",
    "        \n",
    "        Y_points = [0]\n",
    "        while True:\n",
    "            pt = split_size * i\n",
    "            if pt + split_size >= img_h:\n",
    "                pt = img_h - split_size\n",
    "                Y_points.append(pt)\n",
    "                break\n",
    "            Y_points.append(pt)\n",
    "            i += 1\n",
    "        \n",
    "        dct_blocks=[]\n",
    "        for i in X_points:\n",
    "            for j in Y_points:\n",
    "                block = img[i:i+split_size, j:j+split_size]\n",
    "                dct_block = dct(local_binary_pattern(block, 8, 1, method='default'))\n",
    "                dct_blocks.append(dct_block)\n",
    "\n",
    "        np_dct_blocks=np.asarray(dct_blocks)\n",
    "        \n",
    "        std_features=[]\n",
    "        \n",
    "        for x in range(np_dct_blocks.shape[1]):\n",
    "            for y in range(np_dct_blocks.shape[2]):\n",
    "                std_features.append(np.std(np_dct_blocks[:,x,y]))\n",
    "        \n",
    "        feature_vectors.append(img_std_list)\n",
    "        label.append(class_label)"
   ]
  },
  {
   "cell_type": "code",
   "execution_count": 6,
   "metadata": {},
   "outputs": [
    {
     "name": "stderr",
     "output_type": "stream",
     "text": [
      "100%|██████████| 7492/7492 [07:10<00:00, 17.40it/s]\n",
      "100%|██████████| 5124/5124 [07:40<00:00, 11.12it/s]\n"
     ]
    }
   ],
   "source": [
    "labels=[]\n",
    "dataframe_list=[]\n",
    "\n",
    "\n",
    "truepath=\"/scratch/ap6624/CV/CASIA2/Au\"\n",
    "fakepath=\"/scratch/ap6624/CV/CASIA2/Tp\"\n",
    "truefeatures, truelabels = extract_features(truepath, 0)\n",
    "fakefeatures, fakelabels = extract_features(fakepath, 1)\n"
   ]
  },
  {
   "cell_type": "code",
   "execution_count": 7,
   "metadata": {},
   "outputs": [
    {
     "name": "stdout",
     "output_type": "stream",
     "text": [
      "Length/Dimension of features 256\n",
      "Length of feature vector 12614\n",
      "length of label 12614\n"
     ]
    }
   ],
   "source": [
    "print(\"Length/Dimension of features\", len(feature_vector[0]))\n",
    "print(\"Length of feature vector\", len(feature_vector))\n",
    "print(\"length of label\",len(label))"
   ]
  },
  {
   "cell_type": "code",
   "execution_count": 8,
   "metadata": {},
   "outputs": [
    {
     "data": {
      "text/html": [
       "<div>\n",
       "<style scoped>\n",
       "    .dataframe tbody tr th:only-of-type {\n",
       "        vertical-align: middle;\n",
       "    }\n",
       "\n",
       "    .dataframe tbody tr th {\n",
       "        vertical-align: top;\n",
       "    }\n",
       "\n",
       "    .dataframe thead th {\n",
       "        text-align: right;\n",
       "    }\n",
       "</style>\n",
       "<table border=\"1\" class=\"dataframe\">\n",
       "  <thead>\n",
       "    <tr style=\"text-align: right;\">\n",
       "      <th></th>\n",
       "      <th>image_names</th>\n",
       "      <th>1</th>\n",
       "      <th>2</th>\n",
       "      <th>3</th>\n",
       "      <th>4</th>\n",
       "      <th>5</th>\n",
       "      <th>6</th>\n",
       "      <th>7</th>\n",
       "      <th>8</th>\n",
       "      <th>9</th>\n",
       "      <th>...</th>\n",
       "      <th>248</th>\n",
       "      <th>249</th>\n",
       "      <th>250</th>\n",
       "      <th>251</th>\n",
       "      <th>252</th>\n",
       "      <th>253</th>\n",
       "      <th>254</th>\n",
       "      <th>255</th>\n",
       "      <th>256</th>\n",
       "      <th>257</th>\n",
       "    </tr>\n",
       "  </thead>\n",
       "  <tbody>\n",
       "    <tr>\n",
       "      <th>0</th>\n",
       "      <td>Au_art_30071.jpg</td>\n",
       "      <td>0</td>\n",
       "      <td>1567.715904</td>\n",
       "      <td>766.830652</td>\n",
       "      <td>624.437346</td>\n",
       "      <td>602.170676</td>\n",
       "      <td>439.412059</td>\n",
       "      <td>321.294301</td>\n",
       "      <td>279.062546</td>\n",
       "      <td>269.060390</td>\n",
       "      <td>...</td>\n",
       "      <td>40.551594</td>\n",
       "      <td>36.077446</td>\n",
       "      <td>35.466951</td>\n",
       "      <td>34.455235</td>\n",
       "      <td>38.219689</td>\n",
       "      <td>32.284899</td>\n",
       "      <td>31.733224</td>\n",
       "      <td>31.299188</td>\n",
       "      <td>29.615672</td>\n",
       "      <td>29.221101</td>\n",
       "    </tr>\n",
       "    <tr>\n",
       "      <th>1</th>\n",
       "      <td>Au_ani_30378.jpg</td>\n",
       "      <td>0</td>\n",
       "      <td>1763.982651</td>\n",
       "      <td>737.091989</td>\n",
       "      <td>653.245452</td>\n",
       "      <td>432.978036</td>\n",
       "      <td>361.855748</td>\n",
       "      <td>318.396526</td>\n",
       "      <td>296.688332</td>\n",
       "      <td>278.954918</td>\n",
       "      <td>...</td>\n",
       "      <td>37.419802</td>\n",
       "      <td>34.128734</td>\n",
       "      <td>35.515252</td>\n",
       "      <td>36.079671</td>\n",
       "      <td>38.935790</td>\n",
       "      <td>36.974607</td>\n",
       "      <td>42.711979</td>\n",
       "      <td>42.538353</td>\n",
       "      <td>43.471632</td>\n",
       "      <td>47.587055</td>\n",
       "    </tr>\n",
       "    <tr>\n",
       "      <th>2</th>\n",
       "      <td>Au_nat_20042.jpg</td>\n",
       "      <td>0</td>\n",
       "      <td>1077.708468</td>\n",
       "      <td>405.326826</td>\n",
       "      <td>330.520953</td>\n",
       "      <td>289.522949</td>\n",
       "      <td>274.415245</td>\n",
       "      <td>259.199431</td>\n",
       "      <td>282.642769</td>\n",
       "      <td>252.076031</td>\n",
       "      <td>...</td>\n",
       "      <td>35.884322</td>\n",
       "      <td>35.097393</td>\n",
       "      <td>33.219224</td>\n",
       "      <td>36.253793</td>\n",
       "      <td>41.359594</td>\n",
       "      <td>40.336380</td>\n",
       "      <td>36.703289</td>\n",
       "      <td>38.354853</td>\n",
       "      <td>40.352980</td>\n",
       "      <td>58.453324</td>\n",
       "    </tr>\n",
       "    <tr>\n",
       "      <th>3</th>\n",
       "      <td>Au_cha_30123.jpg</td>\n",
       "      <td>0</td>\n",
       "      <td>1603.514027</td>\n",
       "      <td>635.466161</td>\n",
       "      <td>475.340397</td>\n",
       "      <td>380.701089</td>\n",
       "      <td>299.040544</td>\n",
       "      <td>261.374984</td>\n",
       "      <td>261.276790</td>\n",
       "      <td>255.627437</td>\n",
       "      <td>...</td>\n",
       "      <td>35.885818</td>\n",
       "      <td>35.697738</td>\n",
       "      <td>33.811802</td>\n",
       "      <td>34.763363</td>\n",
       "      <td>36.674487</td>\n",
       "      <td>40.926432</td>\n",
       "      <td>41.100644</td>\n",
       "      <td>38.740962</td>\n",
       "      <td>42.406346</td>\n",
       "      <td>48.732615</td>\n",
       "    </tr>\n",
       "    <tr>\n",
       "      <th>4</th>\n",
       "      <td>Au_cha_30256.jpg</td>\n",
       "      <td>0</td>\n",
       "      <td>1594.976705</td>\n",
       "      <td>591.719444</td>\n",
       "      <td>527.464070</td>\n",
       "      <td>374.902148</td>\n",
       "      <td>314.706195</td>\n",
       "      <td>287.745363</td>\n",
       "      <td>292.904765</td>\n",
       "      <td>257.886198</td>\n",
       "      <td>...</td>\n",
       "      <td>37.111118</td>\n",
       "      <td>34.067409</td>\n",
       "      <td>37.752055</td>\n",
       "      <td>38.575956</td>\n",
       "      <td>40.769376</td>\n",
       "      <td>43.994439</td>\n",
       "      <td>41.361549</td>\n",
       "      <td>48.019603</td>\n",
       "      <td>45.565972</td>\n",
       "      <td>56.248675</td>\n",
       "    </tr>\n",
       "  </tbody>\n",
       "</table>\n",
       "<p>5 rows × 258 columns</p>\n",
       "</div>"
      ],
      "text/plain": [
       "        image_names  1            2           3           4           5  \\\n",
       "0  Au_art_30071.jpg  0  1567.715904  766.830652  624.437346  602.170676   \n",
       "1  Au_ani_30378.jpg  0  1763.982651  737.091989  653.245452  432.978036   \n",
       "2  Au_nat_20042.jpg  0  1077.708468  405.326826  330.520953  289.522949   \n",
       "3  Au_cha_30123.jpg  0  1603.514027  635.466161  475.340397  380.701089   \n",
       "4  Au_cha_30256.jpg  0  1594.976705  591.719444  527.464070  374.902148   \n",
       "\n",
       "            6           7           8           9  ...        248        249  \\\n",
       "0  439.412059  321.294301  279.062546  269.060390  ...  40.551594  36.077446   \n",
       "1  361.855748  318.396526  296.688332  278.954918  ...  37.419802  34.128734   \n",
       "2  274.415245  259.199431  282.642769  252.076031  ...  35.884322  35.097393   \n",
       "3  299.040544  261.374984  261.276790  255.627437  ...  35.885818  35.697738   \n",
       "4  314.706195  287.745363  292.904765  257.886198  ...  37.111118  34.067409   \n",
       "\n",
       "         250        251        252        253        254        255  \\\n",
       "0  35.466951  34.455235  38.219689  32.284899  31.733224  31.299188   \n",
       "1  35.515252  36.079671  38.935790  36.974607  42.711979  42.538353   \n",
       "2  33.219224  36.253793  41.359594  40.336380  36.703289  38.354853   \n",
       "3  33.811802  34.763363  36.674487  40.926432  41.100644  38.740962   \n",
       "4  37.752055  38.575956  40.769376  43.994439  41.361549  48.019603   \n",
       "\n",
       "         256        257  \n",
       "0  29.615672  29.221101  \n",
       "1  43.471632  47.587055  \n",
       "2  40.352980  58.453324  \n",
       "3  42.406346  48.732615  \n",
       "4  45.565972  56.248675  \n",
       "\n",
       "[5 rows x 258 columns]"
      ]
     },
     "execution_count": 8,
     "metadata": {},
     "output_type": "execute_result"
    }
   ],
   "source": [
    "df=pd.DataFrame(dataframe_list)\n",
    "df.rename(columns = {0: \"image_names\"}, inplace = True)\n",
    "\n",
    "df.head()"
   ]
  },
  {
   "cell_type": "code",
   "execution_count": 9,
   "metadata": {},
   "outputs": [],
   "source": [
    "scaler_norm = MinMaxScaler() \n",
    "df.iloc[:,1:] = scaler_norm.fit_transform(df.iloc[:,1:].to_numpy()) "
   ]
  },
  {
   "cell_type": "code",
   "execution_count": 10,
   "metadata": {},
   "outputs": [],
   "source": [
    "path_csv=\"CASIA2_feature_DCT_LBP.csv\"\n",
    "\n",
    "df.to_csv(path_csv)"
   ]
  },
  {
   "cell_type": "code",
   "execution_count": 11,
   "metadata": {},
   "outputs": [
    {
     "name": "stdout",
     "output_type": "stream",
     "text": [
      "(12614, 256)\n",
      "(12614,)\n",
      "Training Accuracy:  0.971163 (0.007769)\n"
     ]
    }
   ],
   "source": [
    "array=df.values\n",
    "x_feature=array[:,2:]\n",
    "y_label=array[:,1].astype('int')\n",
    "print(x_feature.shape)\n",
    "print(y_label.shape)\n",
    "\n",
    "X_train,X_test,Y_train,Y_test=train_test_split(x_feature,y_label,test_size=0.20,random_state=7)\n",
    "model_SVC=SVC(C=32,kernel='rbf',gamma=0.03125)\n",
    "\n",
    "kfold=KFold(n_splits=10)\n",
    "cv_results=cross_val_score(model_SVC,X_train,Y_train,cv=kfold,scoring='accuracy')\n",
    "msg=\"%s %f (%f)\" % ('Training Accuracy: ',cv_results.mean(),cv_results.std())\n",
    "print(msg)"
   ]
  },
  {
   "cell_type": "code",
   "execution_count": 12,
   "metadata": {},
   "outputs": [
    {
     "name": "stdout",
     "output_type": "stream",
     "text": [
      "0.9659135949266746\n",
      "[[1454   77]\n",
      " [   9  983]]\n",
      "              precision    recall  f1-score   support\n",
      "\n",
      "           0       0.99      0.95      0.97      1531\n",
      "           1       0.93      0.99      0.96       992\n",
      "\n",
      "    accuracy                           0.97      2523\n",
      "   macro avg       0.96      0.97      0.96      2523\n",
      "weighted avg       0.97      0.97      0.97      2523\n",
      "\n"
     ]
    }
   ],
   "source": [
    "model_SVC = SVC(C=32,gamma=0.03125, kernel='rbf') \n",
    "model_SVC.fit(X_train,Y_train) \n",
    "\n",
    "predictions=model_SVC.predict(X_test)\n",
    "\n",
    "print(accuracy_score(Y_test,predictions))\n",
    "print(confusion_matrix(Y_test,predictions))\n",
    "print(classification_report(Y_test,predictions))"
   ]
  }
 ],
 "metadata": {
  "kernelspec": {
   "display_name": "my_env",
   "language": "python",
   "name": "my_env"
  },
  "language_info": {
   "codemirror_mode": {
    "name": "ipython",
    "version": 3
   },
   "file_extension": ".py",
   "mimetype": "text/x-python",
   "name": "python",
   "nbconvert_exporter": "python",
   "pygments_lexer": "ipython3",
   "version": "3.9.5"
  }
 },
 "nbformat": 4,
 "nbformat_minor": 4
}
