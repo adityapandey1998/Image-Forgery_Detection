{
 "cells": [
  {
   "cell_type": "code",
   "execution_count": 6,
   "metadata": {
    "colab": {
     "base_uri": "https://localhost:8080/"
    },
    "id": "Qx54Kv1PQZuF",
    "outputId": "888f156c-a175-4076-bcc9-271427c5011d"
   },
   "outputs": [
    {
     "name": "stdout",
     "output_type": "stream",
     "text": [
      "/home/ap6624/CV\n",
      "Au  Tp\tau_list.txt  tp_list.txt\n"
     ]
    }
   ],
   "source": [
    "# from google.colab import drive\n",
    "# drive.mount('/content/drive')\n",
    "# %cd  /content/drive/'My Drive'/'CV Project'/\n",
    "!pwd\n",
    "!ls /scratch/ap6624/CV/casia2groundtruth/CASIA2.0_revised/"
   ]
  },
  {
   "cell_type": "code",
   "execution_count": null,
   "metadata": {},
   "outputs": [],
   "source": [
    "# !pip install sklearn"
   ]
  },
  {
   "cell_type": "code",
   "execution_count": 7,
   "metadata": {
    "id": "LzFfut1EUe1E"
   },
   "outputs": [],
   "source": [
    "import os\n",
    "import datetime\n",
    "import numpy as np\n",
    "import itertools\n",
    "import matplotlib.pyplot as plt\n",
    "%matplotlib inline\n",
    "\n",
    "from PIL import Image, ImageChops, ImageEnhance, ImageFilter\n",
    "from sklearn.model_selection import train_test_split\n",
    "from sklearn.metrics import confusion_matrix\n",
    "from keras.utils.np_utils import to_categorical\n",
    "from tensorflow.keras.models import Sequential\n",
    "from tensorflow.keras.layers import Dense, Flatten, Conv2D, MaxPool2D, Dropout\n",
    "from tensorflow.keras.optimizers import Adam\n",
    "from tensorflow.keras.preprocessing.image import ImageDataGenerator\n",
    "from tensorflow.keras.callbacks import EarlyStopping,ReduceLROnPlateau, ModelCheckpoint\n",
    "from tqdm import tqdm"
   ]
  },
  {
   "cell_type": "code",
   "execution_count": null,
   "metadata": {},
   "outputs": [],
   "source": [
    "def get_ela(dir, filename):\n",
    "    path = os.path.join(dir, filename)\n",
    "    temp_img = 'tmp_img_bw.jpg'\n",
    "\n",
    "    image = Image.open(path)\n",
    "    filtered_image = image.convert('RGB').filter(ImageFilter.BoxBlur(0.5))\n",
    "    filtered_image.save(temp_img, 'JPEG', quality = 90)\n",
    "    \n",
    "    temp_image = Image.open(temp_img)\n",
    "    \n",
    "    ela_image = ImageChops.difference(filtered_image, temp_image)\n",
    "    \n",
    "    extremas = ela_image.getextrema()\n",
    "    max_ext = max([x[1] for x in extremas])\n",
    "    if max_ext == 0:\n",
    "        scale = 255.0\n",
    "    else:\n",
    "        scale = 255.0 / max_ext\n",
    "    \n",
    "    ela_image = ImageEnhance.Brightness(ela_image)\n",
    "    ela_image = ela_image.enhance(scale)\n",
    "\n",
    "    result = np.array(ela_image.resize((128,128))).flatten()/255\n",
    "\n",
    "    return result"
   ]
  },
  {
   "cell_type": "code",
   "execution_count": 10,
   "metadata": {
    "colab": {
     "base_uri": "https://localhost:8080/"
    },
    "id": "XyXZQ667UTzQ",
    "outputId": "14f1cf44-3feb-4536-8b9c-007949d623eb"
   },
   "outputs": [
    {
     "name": "stderr",
     "output_type": "stream",
     "text": [
      "100%|██████████| 7492/7492 [02:01<00:00, 61.87it/s]\n"
     ]
    },
    {
     "name": "stdout",
     "output_type": "stream",
     "text": [
      "Authentic Images:\n",
      "Train Size: 7437\n"
     ]
    },
    {
     "name": "stderr",
     "output_type": "stream",
     "text": [
      "100%|██████████| 5123/5123 [01:10<00:00, 72.16it/s] \n"
     ]
    },
    {
     "name": "stdout",
     "output_type": "stream",
     "text": [
      "Tampered Images:\n",
      "Train+Fake Size: 9501\n",
      "Shape of Train Data\n",
      "(9501, 49152)\n"
     ]
    }
   ],
   "source": [
    "authentic_path = '/scratch/ap6624/CV/casia2groundtruth/CASIA2.0_revised/Au'\n",
    "tampered_path = '/scratch/ap6624/CV/casia2groundtruth/CASIA2.0_revised/Tp'\n",
    "\n",
    "X_arr = []\n",
    "y_arr = []\n",
    "\n",
    "for dir, _, files in os.walk(authentic_path):\n",
    "    for filename in tqdm(files):\n",
    "        if filename.endswith('jpg') or filename.endswith('png'):\n",
    "            X_arr.append(get_ela(dir, filename))\n",
    "            y_arr.append(0)\n",
    "\n",
    "num_authentic = len(X_arr)\n",
    "print(\"Authentic Images:\", num_authentic)\n",
    "\n",
    "for dir, _, files in os.walk(tampered_path):\n",
    "    for filename in tqdm(files):\n",
    "        if filename.endswith('jpg') or filename.endswith('png'):\n",
    "            X_arr.append(get_ela(dir, filename))\n",
    "            y_arr.append(1)\n",
    "            \n",
    "print(\"Tampered Images:\", len(X_arr) - num_authentic)\n",
    "\n",
    "X = np.array(X_arr)\n",
    "# X = X_arr\n",
    "y = y_arr\n",
    "\n",
    "print(\"Shape of Train Data\")\n",
    "print(X.shape)"
   ]
  },
  {
   "cell_type": "code",
   "execution_count": 11,
   "metadata": {},
   "outputs": [
    {
     "name": "stdout",
     "output_type": "stream",
     "text": [
      "(9501, 49152)\n",
      "(9501, 128, 128, 3)\n"
     ]
    }
   ],
   "source": [
    "print(X.shape)\n",
    "\n",
    "y = to_categorical(y, 2)\n",
    "X = X.reshape(-1, 128, 128, 3)\n",
    "print(X.shape)"
   ]
  },
  {
   "cell_type": "code",
   "execution_count": 14,
   "metadata": {
    "id": "ytupTNP2W8Qk"
   },
   "outputs": [
    {
     "name": "stdout",
     "output_type": "stream",
     "text": [
      "(7600, 128, 128, 3) (7600, 2)\n",
      "(1901, 128, 128, 3) (1901, 2)\n"
     ]
    }
   ],
   "source": [
    "X_train, X_test, y_train, y_test = train_test_split(X, y, test_size = 0.2)\n",
    "print(X_train.shape,y_train.shape)\n",
    "print(X_test.shape,y_test.shape)"
   ]
  },
  {
   "cell_type": "code",
   "execution_count": null,
   "metadata": {},
   "outputs": [],
   "source": [
    "# X_save_path = 'ELA_extracted_X.npy'\n",
    "# y_save_path = 'ELA_extracted_y.npy'\n",
    "# with open(X_save_path, 'wb') as f1:\n",
    "#     np.save(f1, X)\n",
    "# with open(y_save_path, 'wb') as f2:\n",
    "#     np.save(f2, y)"
   ]
  },
  {
   "cell_type": "markdown",
   "metadata": {
    "id": "ZysfJUlpXY2N"
   },
   "source": [
    "##Using a Basic CNN"
   ]
  },
  {
   "cell_type": "code",
   "execution_count": 15,
   "metadata": {
    "colab": {
     "base_uri": "https://localhost:8080/"
    },
    "id": "EDf6GjIPXYVW",
    "outputId": "ab9fe6b2-a466-4ed3-de24-87c19d76f6e2"
   },
   "outputs": [
    {
     "name": "stderr",
     "output_type": "stream",
     "text": [
      "2021-12-15 19:18:25.415095: I tensorflow/compiler/jit/xla_cpu_device.cc:41] Not creating XLA devices, tf_xla_enable_xla_devices not set\n",
      "2021-12-15 19:18:25.416462: I tensorflow/stream_executor/platform/default/dso_loader.cc:49] Successfully opened dynamic library libcuda.so.1\n",
      "2021-12-15 19:18:26.013289: I tensorflow/core/common_runtime/gpu/gpu_device.cc:1720] Found device 0 with properties: \n",
      "pciBusID: 0000:d8:00.0 name: NVIDIA Tesla V100-PCIE-32GB computeCapability: 7.0\n",
      "coreClock: 1.38GHz coreCount: 80 deviceMemorySize: 31.75GiB deviceMemoryBandwidth: 836.37GiB/s\n",
      "2021-12-15 19:18:26.013363: I tensorflow/stream_executor/platform/default/dso_loader.cc:49] Successfully opened dynamic library libcudart.so.10.1\n",
      "2021-12-15 19:18:26.341275: I tensorflow/stream_executor/platform/default/dso_loader.cc:49] Successfully opened dynamic library libcublas.so.10\n",
      "2021-12-15 19:18:26.341385: I tensorflow/stream_executor/platform/default/dso_loader.cc:49] Successfully opened dynamic library libcublasLt.so.10\n",
      "2021-12-15 19:18:26.544787: I tensorflow/stream_executor/platform/default/dso_loader.cc:49] Successfully opened dynamic library libcufft.so.10\n",
      "2021-12-15 19:18:26.980458: I tensorflow/stream_executor/platform/default/dso_loader.cc:49] Successfully opened dynamic library libcurand.so.10\n",
      "2021-12-15 19:18:26.980654: W tensorflow/stream_executor/platform/default/dso_loader.cc:60] Could not load dynamic library 'libcusolver.so.10'; dlerror: /ext3/miniconda3/lib/python3.9/site-packages/tensorflow/python/../../../../libcusolver.so.10: invalid ELF header; LD_LIBRARY_PATH: .::/.singularity.d/libs\n",
      "2021-12-15 19:18:27.028641: I tensorflow/stream_executor/platform/default/dso_loader.cc:49] Successfully opened dynamic library libcusparse.so.10\n",
      "2021-12-15 19:18:27.402210: I tensorflow/stream_executor/platform/default/dso_loader.cc:49] Successfully opened dynamic library libcudnn.so.7\n",
      "2021-12-15 19:18:27.402245: W tensorflow/core/common_runtime/gpu/gpu_device.cc:1757] Cannot dlopen some GPU libraries. Please make sure the missing libraries mentioned above are installed properly if you would like to use GPU. Follow the guide at https://www.tensorflow.org/install/gpu for how to download and setup the required libraries for your platform.\n",
      "Skipping registering GPU devices...\n",
      "2021-12-15 19:18:27.404052: I tensorflow/core/platform/cpu_feature_guard.cc:142] This TensorFlow binary is optimized with oneAPI Deep Neural Network Library (oneDNN) to use the following CPU instructions in performance-critical operations:  SSE4.1 SSE4.2 AVX AVX2 AVX512F FMA\n",
      "To enable them in other operations, rebuild TensorFlow with the appropriate compiler flags.\n",
      "2021-12-15 19:18:27.404167: I tensorflow/core/common_runtime/gpu/gpu_device.cc:1261] Device interconnect StreamExecutor with strength 1 edge matrix:\n",
      "2021-12-15 19:18:27.404177: I tensorflow/core/common_runtime/gpu/gpu_device.cc:1267]      \n",
      "2021-12-15 19:18:27.404186: I tensorflow/compiler/jit/xla_gpu_device.cc:99] Not creating XLA devices, tf_xla_enable_xla_devices not set\n"
     ]
    },
    {
     "name": "stdout",
     "output_type": "stream",
     "text": [
      "Model: \"sequential\"\n",
      "_________________________________________________________________\n",
      "Layer (type)                 Output Shape              Param #   \n",
      "=================================================================\n",
      "conv2d (Conv2D)              (None, 124, 124, 32)      2432      \n",
      "_________________________________________________________________\n",
      "max_pooling2d (MaxPooling2D) (None, 62, 62, 32)        0         \n",
      "_________________________________________________________________\n",
      "dropout (Dropout)            (None, 62, 62, 32)        0         \n",
      "_________________________________________________________________\n",
      "conv2d_1 (Conv2D)            (None, 58, 58, 32)        25632     \n",
      "_________________________________________________________________\n",
      "max_pooling2d_1 (MaxPooling2 (None, 29, 29, 32)        0         \n",
      "_________________________________________________________________\n",
      "dropout_1 (Dropout)          (None, 29, 29, 32)        0         \n",
      "_________________________________________________________________\n",
      "conv2d_2 (Conv2D)            (None, 25, 25, 32)        25632     \n",
      "_________________________________________________________________\n",
      "max_pooling2d_2 (MaxPooling2 (None, 12, 12, 32)        0         \n",
      "_________________________________________________________________\n",
      "dropout_2 (Dropout)          (None, 12, 12, 32)        0         \n",
      "_________________________________________________________________\n",
      "flatten (Flatten)            (None, 4608)              0         \n",
      "_________________________________________________________________\n",
      "dense (Dense)                (None, 256)               1179904   \n",
      "_________________________________________________________________\n",
      "dropout_3 (Dropout)          (None, 256)               0         \n",
      "_________________________________________________________________\n",
      "dense_1 (Dense)              (None, 2)                 514       \n",
      "=================================================================\n",
      "Total params: 1,234,114\n",
      "Trainable params: 1,234,114\n",
      "Non-trainable params: 0\n",
      "_________________________________________________________________\n"
     ]
    }
   ],
   "source": [
    "basicCNNModel = Sequential()\n",
    "basicCNNModel.add(Conv2D(filters = 32, kernel_size = (5,5),padding = 'valid',activation = 'relu',input_shape = (128,128,3)))\n",
    "basicCNNModel.add(MaxPool2D(pool_size = (2,2)))\n",
    "basicCNNModel.add(Dropout(0.1))\n",
    "\n",
    "basicCNNModel.add(Conv2D(filters = 32, kernel_size = (5,5),padding = 'valid',activation = 'relu'))\n",
    "basicCNNModel.add(MaxPool2D(pool_size = (2,2)))\n",
    "basicCNNModel.add(Dropout(0.1))\n",
    "\n",
    "basicCNNModel.add(Conv2D(filters = 32, kernel_size = (5,5),padding = 'valid',activation = 'relu'))\n",
    "basicCNNModel.add(MaxPool2D(pool_size = (2,2)))\n",
    "basicCNNModel.add(Dropout(0.2))\n",
    "\n",
    "basicCNNModel.add(Flatten())\n",
    "basicCNNModel.add(Dense(256, activation = 'relu'))\n",
    "basicCNNModel.add(Dropout(0.3))\n",
    "basicCNNModel.add(Dense(2, activation = 'softmax'))\n",
    "\n",
    "\n",
    "basicCNNModel.summary()"
   ]
  },
  {
   "cell_type": "code",
   "execution_count": 16,
   "metadata": {
    "id": "7MAfP28BX8tr"
   },
   "outputs": [],
   "source": [
    "checkpoint_filepath = 'BasicCNN_Detection_Blur/checkpoint'\n",
    "model_checkpoint_callback = ModelCheckpoint(\n",
    "    filepath=checkpoint_filepath,\n",
    "    save_weights_only=True,\n",
    "    monitor='val_accuracy',\n",
    "    mode='max',\n",
    "    save_best_only=True)\n",
    "\n",
    "epochs = 8\n",
    "batch_size = 32\n",
    "opt = Adam(learning_rate = 0.001)\n",
    "\n",
    "early_stopping = EarlyStopping(monitor = 'val_accuracy',patience = 2, mode = 'auto', min_delta = 0)\n",
    "\n",
    "basicCNNModel.compile(optimizer = opt, loss = 'binary_crossentropy', metrics = ['accuracy'])"
   ]
  },
  {
   "cell_type": "code",
   "execution_count": 18,
   "metadata": {
    "id": "PuKFw-5HZunf"
   },
   "outputs": [
    {
     "name": "stderr",
     "output_type": "stream",
     "text": [
      "2021-12-15 19:20:48.596334: I tensorflow/compiler/mlir/mlir_graph_optimization_pass.cc:116] None of the MLIR optimization passes are enabled (registered 2)\n",
      "2021-12-15 19:20:48.609519: I tensorflow/core/platform/profile_utils/cpu_utils.cc:112] CPU Frequency: 2900000000 Hz\n"
     ]
    },
    {
     "name": "stdout",
     "output_type": "stream",
     "text": [
      "Epoch 1/8\n",
      "238/238 [==============================] - 544s 2s/step - loss: 0.4847 - accuracy: 0.7775 - val_loss: 0.4113 - val_accuracy: 0.7354\n",
      "Epoch 2/8\n",
      "238/238 [==============================] - 538s 2s/step - loss: 0.4372 - accuracy: 0.7837 - val_loss: 0.4069 - val_accuracy: 0.7181\n",
      "Epoch 3/8\n",
      "238/238 [==============================] - 540s 2s/step - loss: 0.4187 - accuracy: 0.7797 - val_loss: 0.3918 - val_accuracy: 0.7253\n",
      "Epoch 4/8\n",
      "238/238 [==============================] - 544s 2s/step - loss: 0.4949 - accuracy: 0.7775 - val_loss: 0.4212 - val_accuracy: 0.7406\n",
      "Epoch 5/8\n",
      "238/238 [==============================] - 538s 2s/step - loss: 0.4671 - accuracy: 0.7731 - val_loss: 0.4013 - val_accuracy: 0.7751\n",
      "Epoch 6/8\n",
      "238/238 [==============================] - 540s 2s/step - loss: 0.4284 - accuracy: 0.7869 - val_loss: 0.3847 - val_accuracy: 0.7954\n",
      "Epoch 7/8\n",
      "238/238 [==============================] - 544s 2s/step - loss: 0.4143 - accuracy: 0.8071 - val_loss: 0.3919 - val_accuracy: 0.7852\n",
      "Epoch 8/8\n",
      "238/238 [==============================] - 538s 2s/step - loss: 0.4310 - accuracy: 0.7855 - val_loss: 0.4067 - val_accuracy: 0.7798\n"
     ]
    },
    {
     "data": {
      "text/plain": [
       "<tensorflow.python.keras.callbacks.History at 0x146ea9de24c0>"
      ]
     },
     "execution_count": 18,
     "metadata": {},
     "output_type": "execute_result"
    }
   ],
   "source": [
    "epochs = 8\n",
    "batch_size = 32\n",
    "\n",
    "basicCNNModel.fit(X_train,y_train,batch_size = batch_size,epochs = epochs,validation_data = (X_test, y_test),callbacks = [early_stopping, model_checkpoint_callback])"
   ]
  },
  {
   "cell_type": "code",
   "execution_count": null,
   "metadata": {},
   "outputs": [],
   "source": [
    "def plot_confusion_matrix(cm, classes, normalize=False, title='Confusion matrix', cmap=plt.cm.Blues):\n",
    "    plt.imshow(cm, interpolation='nearest', cmap=cmap)\n",
    "    plt.title('Confusion Matrix')\n",
    "    plt.colorbar()\n",
    "    tick_marks = np.arange(len(classes))\n",
    "    plt.xticks(tick_marks, classes, rotation=45)\n",
    "    plt.yticks(tick_marks, classes)\n",
    "\n",
    "\n",
    "    thresh = cm.max() / 2.\n",
    "    for i, j in itertools.product(range(cm.shape[0]), range(cm.shape[1])):\n",
    "        plt.text(j, i, cm[i, j],\n",
    "                 horizontalalignment=\"center\",\n",
    "                 color=\"white\" if cm[i, j] > thresh else \"black\")\n",
    "\n",
    "    plt.tight_layout()\n",
    "    plt.ylabel('True label')\n",
    "    plt.xlabel('Predicted label')"
   ]
  },
  {
   "cell_type": "code",
   "execution_count": 31,
   "metadata": {
    "id": "35mRnoEgrYBU"
   },
   "outputs": [
    {
     "name": "stdout",
     "output_type": "stream",
     "text": [
      "              precision    recall  f1-score   support\n",
      "\n",
      "           0       0.80      1.00      0.89      1493\n",
      "           1       1.00      0.06      0.11       408\n",
      "\n",
      "    accuracy                           0.80      1901\n",
      "   macro avg       0.90      0.53      0.50      1901\n",
      "weighted avg       0.84      0.80      0.72      1901\n",
      "\n"
     ]
    },
    {
     "data": {
      "image/png": "[encoded data removed]",
      "text/plain": [
       "<Figure size 432x288 with 2 Axes>"
      ]
     },
     "metadata": {
      "needs_background": "light"
     },
     "output_type": "display_data"
    }
   ],
   "source": [
    "Y_pred = basicCNNModel.predict(X_test)\n",
    "Y_pred_classes = np.argmax(Y_pred,axis = 1) \n",
    "Y_true = np.argmax(y_test,axis = 1) \n",
    "\n",
    "cfm = confusion_matrix(Y_true, Y_pred_classes) \n",
    "plot_confusion_matrix(cfm, classes = range(2))\n",
    "\n",
    "from sklearn.metrics import classification_report\n",
    "\n",
    "print(classification_report(Y_true, Y_pred_classes))"
   ]
  }
 ],
 "metadata": {
  "accelerator": "GPU",
  "colab": {
   "collapsed_sections": [],
   "name": "CV Project - Detection CNN.ipynb",
   "provenance": []
  },
  "kernelspec": {
   "display_name": "my_env",
   "language": "python",
   "name": "my_env"
  },
  "language_info": {
   "codemirror_mode": {
    "name": "ipython",
    "version": 3
   },
   "file_extension": ".py",
   "mimetype": "text/x-python",
   "name": "python",
   "nbconvert_exporter": "python",
   "pygments_lexer": "ipython3",
   "version": "3.9.5"
  }
 },
 "nbformat": 4,
 "nbformat_minor": 1
}
